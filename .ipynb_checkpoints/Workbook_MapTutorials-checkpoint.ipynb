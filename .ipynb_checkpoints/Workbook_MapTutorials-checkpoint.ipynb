{
 "cells": [
  {
   "cell_type": "markdown",
   "id": "e3ea2426-9fa1-41c7-9cc9-cf88e5b4cad2",
   "metadata": {},
   "source": [
    "# Workbook for Mapping Tutorials: Climate DataLab\n",
    "### **Authors**\n",
    "\n",
    "Samantha Stevenson sstevenson@ucsb.edu\n",
    "\n",
    "### **Table of Contents**\n",
    "\n",
    "[Goals](#purpose)\n",
    "\n",
    "[Download and Import Needed Packages](#import)\n",
    "\n",
    "[Set Global Parameters](#parameters)\n",
    "\n",
    "[Read in Your Data Files (and Concatenate)](#data_io)\n",
    "\n",
    "[Calculate Time Averages Over Specified Periods, Seasons](#time_avg)\n",
    "\n",
    "[Plot Maps](#map)\n",
    "\n",
    "[Explore Further on Your Own](#explore)"
   ]
  },
  {
   "cell_type": "markdown",
   "id": "4b7b269c-88f4-4925-bf43-ded6f2bd4bb8",
   "metadata": {},
   "source": [
    "<a id='purpose'></a> \n",
    "# Goals\n",
    "\n",
    "This is the companion \"workbook\" for the tutorials in the \"Map Plots\" Climate DataLab repository. It does not contain any code! You can use this as a space to create your own workflow, based on the steps in the tutorials. We have provided an overall structure for the workflow, but you are encouraged to customize your code using snippets from the tutorials in this or other repositories as you like.\n",
    "\n",
    "Happy coding!"
   ]
  },
  {
   "cell_type": "markdown",
   "id": "49ca7bf2-b1fa-40cb-8408-9dceb77529ed",
   "metadata": {},
   "source": [
    "<a id='import'></a> \n",
    "## **Download + Import Needed Packages**\n",
    "\n",
    "You will need the `xarray`, `matplotlib`, and `cartopy` packages in your Python environment in order to complete this tutorial. If these have not already been installed, you can use conda to install them. See tutorials in the [Time Series Plots](https://github.com/climate-datalab/Time-Series-Plots) repo for details on this process!"
   ]
  },
  {
   "cell_type": "code",
   "execution_count": 1,
   "id": "fa01747b-64cd-4cc9-b921-7ab9dec56128",
   "metadata": {
    "tags": []
   },
   "outputs": [],
   "source": [
    "# Import required packages\n",
    "import xarray as xr\n",
    "import matplotlib.pyplot as plt\n",
    "import numpy as np\n",
    "import cartopy.crs as ccrs\n",
    "import cartopy.feature as cfeature"
   ]
  },
  {
   "cell_type": "markdown",
   "id": "8d5d8c1e-5a69-4781-88a1-b2db21c3bf92",
   "metadata": {},
   "source": [
    "<a id='parameters'></a> \n",
    "## **Set Global Parameters**\n",
    "\n",
    "This step is optional but recommended if you are going to be changing your region or time period of interest around a lot. Here you can define arrays that contain the bounds of those regions or time periods, which you can use instead of 'hard coding' the numbers into your code (and potentially forgetting to do that everywhere you need to later).\n",
    "\n",
    "Examples we used in tutorials 1 and 2 in this repo:\n",
    "- defining a region of interest with lat/lon bounds\n",
    "\n",
    "  [lon_min, lon_max, lat_min, lat_max] \n",
    "\n",
    "- defining starting and ending years for your analysis\n",
    "\n",
    "  [start_year, end_year]\n",
    "  \n",
    "_note: the syntax above is optional, you can specify things in any order you want - just make sure you remember which number is which later on!_"
   ]
  },
  {
   "cell_type": "code",
   "execution_count": 2,
   "id": "5b630e77-1c64-439a-9367-a725024bccc3",
   "metadata": {
    "tags": []
   },
   "outputs": [],
   "source": [
    "# Set any parameters you'll need later. For example:\n",
    "# Array with region of interest\n",
    "# [lon_min, lon_max, lat_min, lat_max]\n",
    "region = [230, 295, 25, 51]\n",
    "\n",
    "# Array with time periods of interest\n",
    "# [starting year, ending year]\n",
    "per_early = [1975, 2025]\n",
    "per_late = [2026, 2075]"
   ]
  },
  {
   "cell_type": "markdown",
   "id": "ee5d1260-ba9e-44ac-83e8-dfd339f9856c",
   "metadata": {},
   "source": [
    "<a id='data_io'></a> \n",
    "## **Read in Your Data Files (and Concatenate)**\n",
    "\n",
    "Next, you'll need to read in your data. If you want to work with a time period longer than the extent of a single data file, you'll also want to concatenate them together into a single xarray object to make it easier to work with the data!\n",
    "\n",
    "The space below assumes you're reading in multiple data files, but feel free to ignore if you just have one."
   ]
  },
  {
   "cell_type": "code",
   "execution_count": 3,
   "id": "33f39200-bdbd-4de7-97fa-549414719f2a",
   "metadata": {
    "tags": []
   },
   "outputs": [],
   "source": [
    "# Read in data as xarray Dataset\n",
    "# historical\n",
    "data_hist = xr.open_dataset('/courses/EDS296/tas_Amon_CanESM5_historical_r10i1p1f1_gn_185001-201412.nc')\n",
    "\n",
    "# ssp370\n",
    "data_ssp = xr.open_dataset('/courses/EDS296/tas_Amon_CanESM5_ssp370_r10i1p1f1_gn_201501-210012.nc')\n",
    "\n",
    "# concatenate\n",
    "data = xr.concat([data_hist, data_ssp], dim=\"time\")"
   ]
  },
  {
   "cell_type": "markdown",
   "id": "ea10da6d-ea63-4871-b412-4234507306f5",
   "metadata": {},
   "source": [
    "<a id='time_avg'></a> \n",
    "## **Calculate Time Averages Over Specified Periods, Seasons**\n",
    "\n",
    "In order to create a map, you'll need to reduce the dimension of the data to [lon x lat]. We did this in tutorials 1 and 2 by averaging over the time dimension.\n",
    "\n",
    "During the course of your dimension reduction, you may also want to consider:\n",
    "- performing annual averages (tutorial 1)\n",
    "- extracting data for a given season and averaging only that data (tutorial 2)"
   ]
  },
  {
   "cell_type": "code",
   "execution_count": 10,
   "id": "c9ddf4b4-22ca-4721-b319-a1c23fe2a656",
   "metadata": {
    "tags": []
   },
   "outputs": [],
   "source": [
    "# Extract data associated with the DJF season\n",
    "# early period\n",
    "data_early = data.sel(time=slice(str(per_early[0])+\"-01-01\", str(per_early[1])+\"-12-31\"))\n",
    "data_early_DJF = data_early.sel(time=data_early.time.dt.season==\"DJF\")\n",
    "\n",
    "# late period\n",
    "data_late = data.sel(time=slice(str(per_late[0])+\"-01-01\", str(per_late[1])+\"-12-31\"))\n",
    "data_late_DJF = data_late.sel(time=data_late.time.dt.season==\"DJF\")\n",
    "\n",
    "# Calculate time averages (gives annual mean)\n",
    "data_early_annmn = data_early.mean(dim=\"time\")\n",
    "data_late_annmn = data_late.mean(dim=\"time\")"
   ]
  },
  {
   "cell_type": "code",
   "execution_count": 11,
   "id": "899f24e8-9477-4ec8-b837-7308e5921c54",
   "metadata": {
    "tags": []
   },
   "outputs": [],
   "source": [
    "# Calculate DJF mean during both time periods\n",
    "# early\n",
    "data_early_DJFmn = data_early_DJF.mean(dim=\"time\")\n",
    "\n",
    "# late\n",
    "data_late_DJFmn = data_late_DJF.mean(dim=\"time\")"
   ]
  },
  {
   "cell_type": "markdown",
   "id": "260a2cd4-c98c-4c31-9a9c-61c40b33e01c",
   "metadata": {},
   "source": [
    "<a id='map'></a> \n",
    "## **Plot Maps**\n",
    "\n",
    "Now it's time to put your reduced data on a map! You can make one or many plots, and change the spatial domain however you like. The code comments below correspond to the plotting steps we followed in tutorial 2, but feel free to make it your own!"
   ]
  },
  {
   "cell_type": "code",
   "execution_count": 4,
   "id": "4256a973-509d-407a-af6a-664429babc3b",
   "metadata": {},
   "outputs": [],
   "source": [
    "##### PLOT 1: Annual average\n",
    "\n",
    "# Define object containing PlateCarree projection\n",
    "\n",
    "# Create figure/axis objects, use the map object to specify associated projection\n",
    "\n",
    "# Plot temperature data on the axes using the coolwarm colormap\n",
    "\n",
    "# Set spatial extent of plot\n",
    "\n",
    "# Add colorbar and label it\n",
    "\n",
    "# Add coastline/border lines\n",
    "\n",
    "# Add grid lines\n",
    "\n",
    "# Set font size for x, y-axis labels\n",
    "\n",
    "# Add title, show plot\n"
   ]
  },
  {
   "cell_type": "code",
   "execution_count": 5,
   "id": "9f5f2c8b-a2d7-4619-b592-49237304e11f",
   "metadata": {},
   "outputs": [],
   "source": [
    "##### PLOT 2: DJF average\n",
    "\n",
    "# Define object containing PlateCarree projection\n",
    "\n",
    "# Create figure/axis objects, use the map object to specify associated projection\n",
    "\n",
    "# Plot temperature data on the axes using the coolwarm colormap\n",
    "\n",
    "# Set spatial extent of plot\n",
    "\n",
    "# Add colorbar and label it\n",
    "\n",
    "# Add coastline/border lines\n",
    "\n",
    "# Add grid lines\n",
    "\n",
    "# Set font size for x, y-axis labels\n",
    "\n",
    "# Add title, show plot\n",
    "\n"
   ]
  },
  {
   "cell_type": "markdown",
   "id": "79e560b4-429a-4941-8f4b-ae536e7090e6",
   "metadata": {},
   "source": [
    "<a id='explore'></a> \n",
    "## **Explore Further On your Own**\n",
    "\n",
    "This space is for any extensions you'd like to do beyond the above. Some possibilities include:\n",
    "\n",
    "- looking at additional seasons, not just DJF\n",
    "- calculating differences between multiple time periods (how do changes by the end of the century compare with what's already happened? etc)\n",
    "- comparing the map plots with regionally averaged time series\n",
    "\n",
    "Feel free to pull from any or all of the tutorials or elsewhere on the Internet!"
   ]
  },
  {
   "cell_type": "code",
   "execution_count": null,
   "id": "d39df1c5-6e25-455e-b11f-2d635a319814",
   "metadata": {},
   "outputs": [],
   "source": []
  }
 ],
 "metadata": {
  "kernelspec": {
   "display_name": "Anaconda 3 (EDS 296)",
   "language": "python",
   "name": "eds296-stevenson"
  },
  "language_info": {
   "codemirror_mode": {
    "name": "ipython",
    "version": 3
   },
   "file_extension": ".py",
   "mimetype": "text/x-python",
   "name": "python",
   "nbconvert_exporter": "python",
   "pygments_lexer": "ipython3",
   "version": "3.8.20"
  }
 },
 "nbformat": 4,
 "nbformat_minor": 5
}
